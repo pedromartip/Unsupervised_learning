{
 "cells": [
  {
   "cell_type": "markdown",
   "id": "fc482aa2",
   "metadata": {},
   "source": [
    "# <div style=\"text-align:center; color:rgba(37, 40, 80);\">11752 Machine Learning</div>\n",
    "# <div style=\"text-align:center; color:rgba(37, 40, 80);\">Master in Intelligent Systems</div>\n",
    "# <div style=\"text-align:center; color:rgba(37, 40, 80);\">Universitat de les Illes Balears</div>\n",
    "\n",
    "### <div style=\"text-align:center; color:white;\"> Handout #3: **Unsupervised learning**</div>\n",
    "\n",
    "#### **Integrants:** Jason Adel Noboa Rivera, Pedro Marti Pico\n",
    "#### **Group:** 07\n",
    "\n",
    "##### T0. Normalize the dataset samples using max-min normalization and consider the following cases:\n",
    "\n"
   ]
  },
  {
   "cell_type": "code",
   "execution_count": 12,
   "id": "9ad5a9ba",
   "metadata": {},
   "outputs": [],
   "source": [
    "from sklearn.datasets import load_digits\n",
    "from sklearn.decomposition import PCA\n",
    "import numpy as np\n",
    "from sklearn.cluster import KMeans\n",
    "from sklearn.metrics import v_measure_score\n",
    "from sklearn.metrics import confusion_matrix\n",
    "from sklearn.metrics import confusion_matrix, homogeneity_score, completeness_score\n"
   ]
  },
  {
   "cell_type": "markdown",
   "id": "7c4191bb",
   "metadata": {},
   "source": [
    "## Data preparation\n",
    "### (a) Consider the original dataset and a lower-dimensional version obtained through PCA retaining 95% of the variance."
   ]
  },
  {
   "cell_type": "code",
   "execution_count": 10,
   "id": "2b54b988",
   "metadata": {},
   "outputs": [
    {
     "name": "stdout",
     "output_type": "stream",
     "text": [
      "Filtered Data:\n",
      "X shape: (541, 64)\n",
      "y shape: (541,)\n",
      "\n",
      "PCA Transformed Data:\n",
      "X_pca shape: (541, 27)\n"
     ]
    }
   ],
   "source": [
    "digits = load_digits ()\n",
    "samples = digits.data\n",
    "labels = digits.target\n",
    "X = samples[(labels == 5) | (labels == 7) | (labels == 9)]\n",
    "y = labels[(labels == 5) | (labels == 7) | (labels == 9)]\n",
    "\n",
    "print(\"Filtered Data:\")\n",
    "print(\"X shape:\", X.shape)\n",
    "print(\"y shape:\", y.shape)\n",
    "\n",
    "# Applying PCA to retain 95% variance\n",
    "pca = PCA(n_components=0.95)\n",
    "X_pca = pca.fit_transform(X)\n",
    "\n",
    "print(\"\\nPCA Transformed Data:\")\n",
    "print(\"X_pca shape:\", X_pca.shape)\n"
   ]
  },
  {
   "cell_type": "markdown",
   "id": "007f2766",
   "metadata": {},
   "source": [
    "## Clustering\n",
    "### (b) Cluster your dataset for m = 2, 3, 4 and 5 clusters and report on the performance attained in each case using the v-measure."
   ]
  },
  {
   "cell_type": "code",
   "execution_count": 15,
   "id": "52b8699d",
   "metadata": {},
   "outputs": [
    {
     "name": "stderr",
     "output_type": "stream",
     "text": [
      "c:\\Users\\Pedro\\anaconda3\\envs\\AIV_P1\\lib\\site-packages\\sklearn\\cluster\\_kmeans.py:1416: FutureWarning: The default value of `n_init` will change from 10 to 'auto' in 1.4. Set the value of `n_init` explicitly to suppress the warning\n",
      "  super()._check_params_vs_input(X, default_n_init=10)\n",
      "c:\\Users\\Pedro\\anaconda3\\envs\\AIV_P1\\lib\\site-packages\\sklearn\\cluster\\_kmeans.py:1416: FutureWarning: The default value of `n_init` will change from 10 to 'auto' in 1.4. Set the value of `n_init` explicitly to suppress the warning\n",
      "  super()._check_params_vs_input(X, default_n_init=10)\n",
      "c:\\Users\\Pedro\\anaconda3\\envs\\AIV_P1\\lib\\site-packages\\sklearn\\cluster\\_kmeans.py:1416: FutureWarning: The default value of `n_init` will change from 10 to 'auto' in 1.4. Set the value of `n_init` explicitly to suppress the warning\n",
      "  super()._check_params_vs_input(X, default_n_init=10)\n",
      "c:\\Users\\Pedro\\anaconda3\\envs\\AIV_P1\\lib\\site-packages\\sklearn\\cluster\\_kmeans.py:1416: FutureWarning: The default value of `n_init` will change from 10 to 'auto' in 1.4. Set the value of `n_init` explicitly to suppress the warning\n",
      "  super()._check_params_vs_input(X, default_n_init=10)\n",
      "c:\\Users\\Pedro\\anaconda3\\envs\\AIV_P1\\lib\\site-packages\\sklearn\\cluster\\_kmeans.py:1416: FutureWarning: The default value of `n_init` will change from 10 to 'auto' in 1.4. Set the value of `n_init` explicitly to suppress the warning\n",
      "  super()._check_params_vs_input(X, default_n_init=10)\n",
      "c:\\Users\\Pedro\\anaconda3\\envs\\AIV_P1\\lib\\site-packages\\sklearn\\cluster\\_kmeans.py:1416: FutureWarning: The default value of `n_init` will change from 10 to 'auto' in 1.4. Set the value of `n_init` explicitly to suppress the warning\n",
      "  super()._check_params_vs_input(X, default_n_init=10)\n"
     ]
    },
    {
     "name": "stdout",
     "output_type": "stream",
     "text": [
      "V-measure for 2 clusters: Original Data = 0.4123990769454228, PCA Data = 0.4131927643040439\n",
      "V-measure for 3 clusters: Original Data = 0.6776585535614549, PCA Data = 0.6776585535614549\n",
      "V-measure for 4 clusters: Original Data = 0.616329099414642, PCA Data = 0.616329099414642\n",
      "V-measure for 5 clusters: Original Data = 0.6360224341080897, PCA Data = 0.641073639388315\n"
     ]
    },
    {
     "name": "stderr",
     "output_type": "stream",
     "text": [
      "c:\\Users\\Pedro\\anaconda3\\envs\\AIV_P1\\lib\\site-packages\\sklearn\\cluster\\_kmeans.py:1416: FutureWarning: The default value of `n_init` will change from 10 to 'auto' in 1.4. Set the value of `n_init` explicitly to suppress the warning\n",
      "  super()._check_params_vs_input(X, default_n_init=10)\n",
      "c:\\Users\\Pedro\\anaconda3\\envs\\AIV_P1\\lib\\site-packages\\sklearn\\cluster\\_kmeans.py:1416: FutureWarning: The default value of `n_init` will change from 10 to 'auto' in 1.4. Set the value of `n_init` explicitly to suppress the warning\n",
      "  super()._check_params_vs_input(X, default_n_init=10)\n"
     ]
    }
   ],
   "source": [
    "# Function to perform clustering and evaluate with v-measure\n",
    "def cluster_and_evaluate(X, n_clusters):\n",
    "    kmeans = KMeans(n_clusters=n_clusters, random_state=42)\n",
    "    y_pred = kmeans.fit_predict(X)\n",
    "    return v_measure_score(y, y_pred)\n",
    "\n",
    "# Clustering and evaluating for 2, 3, 4, and 5 clusters on both original and PCA-transformed data\n",
    "for n_clusters in [2, 3, 4, 5]:\n",
    "    v_measure_original = cluster_and_evaluate(X, n_clusters)\n",
    "    v_measure_pca = cluster_and_evaluate(X_pca, n_clusters)\n",
    "    print(f\"V-measure for {n_clusters} clusters: Original Data = {v_measure_original}, PCA Data = {v_measure_pca}\")"
   ]
  },
  {
   "cell_type": "markdown",
   "id": "2896af89",
   "metadata": {},
   "source": [
    "## Best Case Analysis\n",
    "### (c) For the best case among the 8 possible combinations resulting from (a) and (b):\n",
    "### i. Compute the contingency matrix."
   ]
  },
  {
   "cell_type": "code",
   "execution_count": 16,
   "id": "9af50ee3",
   "metadata": {},
   "outputs": [
    {
     "name": "stdout",
     "output_type": "stream",
     "text": [
      "Contingency Matrix:\n",
      " [[  0   0   0   0   0   0   0   0]\n",
      " [  0   0   0   0   0   0   0   0]\n",
      " [  0   0   0   0   0   0   0   0]\n",
      " [  0   0   0   0   0   0   0   0]\n",
      " [  0   0   0   0   0   0   0   0]\n",
      " [  9  75   0  98   0   0   0   0]\n",
      " [  0   0  67   0 112   0   0   0]\n",
      " [143   2  29   4   2   0   0   0]]\n"
     ]
    },
    {
     "name": "stderr",
     "output_type": "stream",
     "text": [
      "c:\\Users\\Pedro\\anaconda3\\envs\\AIV_P1\\lib\\site-packages\\sklearn\\cluster\\_kmeans.py:1416: FutureWarning: The default value of `n_init` will change from 10 to 'auto' in 1.4. Set the value of `n_init` explicitly to suppress the warning\n",
      "  super()._check_params_vs_input(X, default_n_init=10)\n"
     ]
    }
   ],
   "source": [
    "# Assuming best case is 5 clusters with PCA data\n",
    "kmeans_best = KMeans(n_clusters=5, random_state=42)\n",
    "y_pred_best = kmeans_best.fit_predict(X_pca)\n",
    "\n",
    "contingency_matrix = confusion_matrix(y, y_pred_best)\n",
    "print(\"Contingency Matrix:\\n\", contingency_matrix)"
   ]
  },
  {
   "cell_type": "code",
   "execution_count": 17,
   "id": "84b0cb15",
   "metadata": {},
   "outputs": [
    {
     "name": "stdout",
     "output_type": "stream",
     "text": [
      "Unique classes in the dataset: [5 7 9]\n",
      "Contingency Matrix:\n",
      " [[  0   0   0   0   0   0   0   0]\n",
      " [  0   0   0   0   0   0   0   0]\n",
      " [  0   0   0   0   0   0   0   0]\n",
      " [  0   0   0   0   0   0   0   0]\n",
      " [  0   0   0   0   0   0   0   0]\n",
      " [  9  75   0  98   0   0   0   0]\n",
      " [  0   0  67   0 112   0   0   0]\n",
      " [143   2  29   4   2   0   0   0]]\n"
     ]
    }
   ],
   "source": [
    "# Check unique classes in the dataset\n",
    "unique_classes = np.unique(y)\n",
    "print(\"Unique classes in the dataset:\", unique_classes)\n",
    "\n",
    "# Construct the contingency matrix\n",
    "contingency_matrix = confusion_matrix(y, y_pred_best)\n",
    "print(\"Contingency Matrix:\\n\", contingency_matrix)\n"
   ]
  },
  {
   "cell_type": "markdown",
   "id": "59fae0af",
   "metadata": {},
   "source": [
    "### ii. Determine the assignment of classes to clusters.\n"
   ]
  },
  {
   "cell_type": "code",
   "execution_count": 19,
   "id": "c3e7b94e",
   "metadata": {},
   "outputs": [
    {
     "name": "stdout",
     "output_type": "stream",
     "text": [
      "Class 5 is most commonly assigned to Cluster 1\n",
      "Class 7 is most commonly assigned to Cluster 1\n",
      "Class 9 is most commonly assigned to Cluster 1\n"
     ]
    }
   ],
   "source": [
    "class_labels = [5, 7, 9]\n",
    "\n",
    "# Determine the most common cluster assignment for each class\n",
    "for i, class_label in enumerate(class_labels):\n",
    "    most_common_cluster = np.argmax(contingency_matrix[i])\n",
    "    print(f\"Class {class_label} is most commonly assigned to Cluster {most_common_cluster + 1}\")"
   ]
  },
  {
   "cell_type": "markdown",
   "id": "93ed1faa",
   "metadata": {},
   "source": [
    "### iii. Identify the number of incorrectly clustered samples and calculate also the percentage of errors as number of incorrectly clustered samples / total number of samples."
   ]
  },
  {
   "cell_type": "code",
   "execution_count": 29,
   "id": "2fdeb5aa",
   "metadata": {},
   "outputs": [
    {
     "name": "stdout",
     "output_type": "stream",
     "text": [
      "Number of incorrectly clustered samples: 389\n",
      "Percentage of errors: 71.90388170055454 %\n"
     ]
    }
   ],
   "source": [
    "# Determining the most common cluster assignment for each class\n",
    "most_common_clusters = [np.argmax(contingency_matrix[i]) for i in range(len(class_labels))] #Aqui uso lo mismo que antes\n",
    "\n",
    "# Dictionary creation for map the class labels to their most common clusters\n",
    "class_to_cluster = {class_label: cluster for class_label, cluster in zip(class_labels, most_common_clusters)}\n",
    "\n",
    "# Mapping of the actual class labels to their predicted clusters\n",
    "predicted_clusters = [class_to_cluster.get(label, -1) for label in y]\n",
    "\n",
    "# Amount of mismatches between actual clusters and predicted ones\n",
    "incorrectly_clustered = np.sum(np.array(predicted_clusters) != kmeans_best.labels_)\n",
    "\n",
    "# Calculate the percentage of errors\n",
    "total_samples = len(y)\n",
    "error_percentage = (incorrectly_clustered / total_samples) * 100\n",
    "\n",
    "print(\"Number of incorrectly clustered samples:\", incorrectly_clustered)\n",
    "print(\"Percentage of errors:\", error_percentage, \"%\")\n"
   ]
  },
  {
   "cell_type": "markdown",
   "id": "93604a73",
   "metadata": {},
   "source": [
    "### iv. Report also on the homogeneity and the completeness measures."
   ]
  },
  {
   "cell_type": "code",
   "execution_count": 25,
   "id": "e1e8a155",
   "metadata": {},
   "outputs": [
    {
     "name": "stdout",
     "output_type": "stream",
     "text": [
      "Homogeneity: 0.7826175523849788\n",
      "Completeness: 0.5428872565568666\n"
     ]
    }
   ],
   "source": [
    "homogeneity = homogeneity_score(y, y_pred_best)\n",
    "completeness = completeness_score(y, y_pred_best)\n",
    "print(\"Homogeneity:\", homogeneity)\n",
    "print(\"Completeness:\", completeness)"
   ]
  },
  {
   "cell_type": "markdown",
   "id": "1d282df0",
   "metadata": {},
   "source": [
    "### v. In case there are mistakes, show one example of each case using the following source code (X is the matrix with the samples and ndx is the index of an incorrectly clustered sample, e.g. a sample from class 0 clustered as if it was from class 6)"
   ]
  },
  {
   "cell_type": "code",
   "execution_count": 28,
   "id": "aa3b24f3",
   "metadata": {},
   "outputs": [
    {
     "data": {
      "image/png": "[encoded data removed]",
      "text/plain": [
       "<Figure size 1500x800 with 3 Axes>"
      ]
     },
     "metadata": {},
     "output_type": "display_data"
    }
   ],
   "source": [
    "import matplotlib.pyplot as plt\n",
    "\n",
    "unique_classes = np.unique(y)\n",
    "plt.figure(figsize=(15, 8))\n",
    "\n",
    "for i, class_label in enumerate(unique_classes):\n",
    "    # Here we are findsing the first instance where the predicted cluster does not match the actual class\n",
    "    incorrect_indices = np.where((y == class_label) & (y_pred_best != y_pred_best[np.argmax(contingency_matrix[i])]))[0]\n",
    "    if len(incorrect_indices) > 0:\n",
    "        ndx = incorrect_indices[0]  # Index first incorect smple\n",
    "        plt.subplot(1, len(unique_classes), i + 1)\n",
    "        plt.gray()\n",
    "        plt.matshow(X[ndx].reshape(8, 8), fignum=False)\n",
    "        predicted_cluster = y_pred_best[ndx] + 1  # Matcheamos con el primero\n",
    "        plt.title(f'Sample {class_label}\\nClustered as {predicted_cluster}')\n",
    "        plt.axis('off')\n",
    "\n",
    "plt.show()"
   ]
  }
 ],
 "metadata": {
  "kernelspec": {
   "display_name": "Python 3 (ipykernel)",
   "language": "python",
   "name": "python3"
  },
  "language_info": {
   "codemirror_mode": {
    "name": "ipython",
    "version": 3
   },
   "file_extension": ".py",
   "mimetype": "text/x-python",
   "name": "python",
   "nbconvert_exporter": "python",
   "pygments_lexer": "ipython3",
   "version": "3.9.18"
  }
 },
 "nbformat": 4,
 "nbformat_minor": 5
}
