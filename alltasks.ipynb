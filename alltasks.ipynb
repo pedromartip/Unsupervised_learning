{
 "cells": [
  {
   "cell_type": "markdown",
   "id": "fc482aa2",
   "metadata": {},
   "source": [
    "# <div style=\"text-align:center; color:rgba(37, 40, 80);\">11752 Machine Learning</div>\n",
    "# <div style=\"text-align:center; color:rgba(37, 40, 80);\">Master in Intelligent Systems</div>\n",
    "# <div style=\"text-align:center; color:rgba(37, 40, 80);\">Universitat de les Illes Balears</div>\n",
    "\n",
    "### <div style=\"text-align:center; color:white;\"> Handout #3: **Unsupervised learning**</div>\n",
    "\n",
    "#### **Integrants:** Jason Adel Noboa Rivera, Pedro Marti Pico\n",
    "#### **Group:** 07\n",
    "\n",
    "##### T0. Normalize the dataset samples using max-min normalization and consider the following cases:\n",
    "\n"
   ]
  },
  {
   "cell_type": "code",
   "execution_count": 1,
   "id": "9ad5a9ba",
   "metadata": {},
   "outputs": [],
   "source": [
    "from sklearn.datasets import load_digits\n",
    "from sklearn.decomposition import PCA\n",
    "import numpy as np\n",
    "from sklearn.cluster import KMeans, AgglomerativeClustering\n",
    "from sklearn.metrics import v_measure_score\n",
    "from sklearn.metrics import confusion_matrix\n",
    "from sklearn.metrics import confusion_matrix, homogeneity_score, completeness_score\n"
   ]
  },
  {
   "cell_type": "markdown",
   "id": "7c4191bb",
   "metadata": {},
   "source": [
    "## Data preparation\n",
    "### (a) Consider the original dataset and a lower-dimensional version obtained through PCA retaining 95% of the variance."
   ]
  },
  {
   "cell_type": "code",
   "execution_count": 2,
   "id": "2b54b988",
   "metadata": {},
   "outputs": [
    {
     "name": "stdout",
     "output_type": "stream",
     "text": [
      "Filtered Data:\n",
      "X shape: (541, 64)\n",
      "y shape: (541,)\n",
      "\n",
      "PCA Transformed Data:\n",
      "X_pca shape: (541, 27)\n"
     ]
    }
   ],
   "source": [
    "digits = load_digits ()\n",
    "samples = digits.data\n",
    "labels = digits.target\n",
    "X = samples[(labels == 5) | (labels == 7) | (labels == 9)]\n",
    "y = labels[(labels == 5) | (labels == 7) | (labels == 9)]\n",
    "\n",
    "print(\"Filtered Data:\")\n",
    "print(\"X shape:\", X.shape)\n",
    "print(\"y shape:\", y.shape)\n",
    "\n",
    "# Applying PCA to retain 95% variance\n",
    "pca = PCA(n_components=0.95)\n",
    "X_pca = pca.fit_transform(X)\n",
    "\n",
    "print(\"\\nPCA Transformed Data:\")\n",
    "print(\"X_pca shape:\", X_pca.shape)\n"
   ]
  },
  {
   "cell_type": "markdown",
   "id": "007f2766",
   "metadata": {},
   "source": [
    "## Clustering\n",
    "### (b) Cluster your dataset for m = 2, 3, 4 and 5 clusters and report on the performance attained in each case using the v-measure."
   ]
  },
  {
   "cell_type": "code",
   "execution_count": 30,
   "id": "52b8699d",
   "metadata": {},
   "outputs": [
    {
     "ename": "TypeError",
     "evalue": "__init__() got an unexpected keyword argument 'n_clusters'",
     "output_type": "error",
     "traceback": [
      "\u001b[1;31m---------------------------------------------------------------------------\u001b[0m",
      "\u001b[1;31mTypeError\u001b[0m                                 Traceback (most recent call last)",
      "Cell \u001b[1;32mIn[30], line 9\u001b[0m\n\u001b[0;32m      7\u001b[0m \u001b[38;5;66;03m# Clustering and evaluating for 2, 3, 4, and 5 clusters on both original and PCA-transformed data\u001b[39;00m\n\u001b[0;32m      8\u001b[0m \u001b[38;5;28;01mfor\u001b[39;00m n_clusters \u001b[38;5;129;01min\u001b[39;00m [\u001b[38;5;241m2\u001b[39m, \u001b[38;5;241m3\u001b[39m, \u001b[38;5;241m4\u001b[39m, \u001b[38;5;241m5\u001b[39m]:\n\u001b[1;32m----> 9\u001b[0m     v_measure_original \u001b[38;5;241m=\u001b[39m \u001b[43mcluster_and_evaluate\u001b[49m\u001b[43m(\u001b[49m\u001b[43mX\u001b[49m\u001b[43m,\u001b[49m\u001b[43m \u001b[49m\u001b[43mn_clusters\u001b[49m\u001b[43m)\u001b[49m\n\u001b[0;32m     10\u001b[0m     v_measure_pca \u001b[38;5;241m=\u001b[39m cluster_and_evaluate(X_pca, n_clusters)\n\u001b[0;32m     11\u001b[0m     \u001b[38;5;28mprint\u001b[39m(\u001b[38;5;124mf\u001b[39m\u001b[38;5;124m\"\u001b[39m\u001b[38;5;124mV-measure for \u001b[39m\u001b[38;5;132;01m{\u001b[39;00mn_clusters\u001b[38;5;132;01m}\u001b[39;00m\u001b[38;5;124m clusters: Original Data = \u001b[39m\u001b[38;5;132;01m{\u001b[39;00mv_measure_original\u001b[38;5;132;01m}\u001b[39;00m\u001b[38;5;124m, PCA Data = \u001b[39m\u001b[38;5;132;01m{\u001b[39;00mv_measure_pca\u001b[38;5;132;01m}\u001b[39;00m\u001b[38;5;124m\"\u001b[39m)\n",
      "Cell \u001b[1;32mIn[30], line 3\u001b[0m, in \u001b[0;36mcluster_and_evaluate\u001b[1;34m(X, n_clusters)\u001b[0m\n\u001b[0;32m      2\u001b[0m \u001b[38;5;28;01mdef\u001b[39;00m \u001b[38;5;21mcluster_and_evaluate\u001b[39m(X, n_clusters):\n\u001b[1;32m----> 3\u001b[0m     kmeans \u001b[38;5;241m=\u001b[39m \u001b[43mKMeans\u001b[49m\u001b[43m(\u001b[49m\u001b[43mn_clusters\u001b[49m\u001b[38;5;241;43m=\u001b[39;49m\u001b[43mn_clusters\u001b[49m\u001b[43m,\u001b[49m\u001b[43m \u001b[49m\u001b[43mrandom_state\u001b[49m\u001b[38;5;241;43m=\u001b[39;49m\u001b[38;5;241;43m42\u001b[39;49m\u001b[43m)\u001b[49m\n\u001b[0;32m      4\u001b[0m     y_pred \u001b[38;5;241m=\u001b[39m kmeans\u001b[38;5;241m.\u001b[39mfit_predict(X)\n\u001b[0;32m      5\u001b[0m     \u001b[38;5;28;01mreturn\u001b[39;00m v_measure_score(y, y_pred)\n",
      "\u001b[1;31mTypeError\u001b[0m: __init__() got an unexpected keyword argument 'n_clusters'"
     ]
    }
   ],
   "source": [
    "# Function to perform clustering and evaluate with v-measure\n",
    "def cluster_and_evaluate(X, n_clusters):\n",
    "    kmeans = KMeans(n_clusters=n_clusters, random_state=42)\n",
    "    y_pred = kmeans.fit_predict(X)\n",
    "    return v_measure_score(y, y_pred)\n",
    "\n",
    "# Clustering and evaluating for 2, 3, 4, and 5 clusters on both original and PCA-transformed data\n",
    "for n_clusters in [2, 3, 4, 5]:\n",
    "    v_measure_original = cluster_and_evaluate(X, n_clusters)\n",
    "    v_measure_pca = cluster_and_evaluate(X_pca, n_clusters)\n",
    "    print(f\"V-measure for {n_clusters} clusters: Original Data = {v_measure_original}, PCA Data = {v_measure_pca}\")"
   ]
  },
  {
   "cell_type": "markdown",
   "id": "2896af89",
   "metadata": {},
   "source": [
    "## Best Case Analysis\n",
    "### (c) For the best case among the 8 possible combinations resulting from (a) and (b):\n",
    "### i. Compute the contingency matrix."
   ]
  },
  {
   "cell_type": "code",
   "execution_count": 31,
   "id": "9af50ee3",
   "metadata": {},
   "outputs": [
    {
     "ename": "TypeError",
     "evalue": "__init__() got an unexpected keyword argument 'n_clusters'",
     "output_type": "error",
     "traceback": [
      "\u001b[1;31m---------------------------------------------------------------------------\u001b[0m",
      "\u001b[1;31mTypeError\u001b[0m                                 Traceback (most recent call last)",
      "Cell \u001b[1;32mIn[31], line 2\u001b[0m\n\u001b[0;32m      1\u001b[0m \u001b[38;5;66;03m# Assuming best case is 5 clusters with PCA data\u001b[39;00m\n\u001b[1;32m----> 2\u001b[0m kmeans_best \u001b[38;5;241m=\u001b[39m \u001b[43mKMeans\u001b[49m\u001b[43m(\u001b[49m\u001b[43mn_clusters\u001b[49m\u001b[38;5;241;43m=\u001b[39;49m\u001b[38;5;241;43m5\u001b[39;49m\u001b[43m,\u001b[49m\u001b[43m \u001b[49m\u001b[43mrandom_state\u001b[49m\u001b[38;5;241;43m=\u001b[39;49m\u001b[38;5;241;43m42\u001b[39;49m\u001b[43m)\u001b[49m\n\u001b[0;32m      3\u001b[0m y_pred_best \u001b[38;5;241m=\u001b[39m kmeans_best\u001b[38;5;241m.\u001b[39mfit_predict(X_pca)\n\u001b[0;32m      5\u001b[0m contingency_matrix \u001b[38;5;241m=\u001b[39m confusion_matrix(y, y_pred_best)\n",
      "\u001b[1;31mTypeError\u001b[0m: __init__() got an unexpected keyword argument 'n_clusters'"
     ]
    }
   ],
   "source": [
    "# Assuming best case is 5 clusters with PCA data\n",
    "kmeans_best = KMeans(n_clusters=5, random_state=42)\n",
    "y_pred_best = kmeans_best.fit_predict(X_pca)\n",
    "\n",
    "contingency_matrix = confusion_matrix(y, y_pred_best)\n",
    "print(\"Contingency Matrix:\\n\", contingency_matrix)"
   ]
  },
  {
   "cell_type": "markdown",
   "id": "59fae0af",
   "metadata": {},
   "source": [
    "### ii. Determine the assignment of classes to clusters.\n"
   ]
  },
  {
   "cell_type": "code",
   "execution_count": 6,
   "id": "c3e7b94e",
   "metadata": {},
   "outputs": [
    {
     "name": "stdout",
     "output_type": "stream",
     "text": [
      "Class 5 is most commonly assigned to Cluster 1\n",
      "Class 7 is most commonly assigned to Cluster 1\n",
      "Class 9 is most commonly assigned to Cluster 1\n"
     ]
    }
   ],
   "source": [
    "class_labels = [5, 7, 9]\n",
    "\n",
    "# Determine the most common cluster assignment for each class\n",
    "for i, class_label in enumerate(class_labels):\n",
    "    most_common_cluster = np.argmax(contingency_matrix[i])\n",
    "    print(f\"Class {class_label} is most commonly assigned to Cluster {most_common_cluster + 1}\")"
   ]
  },
  {
   "cell_type": "markdown",
   "id": "93ed1faa",
   "metadata": {},
   "source": [
    "### iii. Identify the number of incorrectly clustered samples and calculate also the percentage of errors as number of incorrectly clustered samples / total number of samples."
   ]
  },
  {
   "cell_type": "code",
   "execution_count": 7,
   "id": "2fdeb5aa",
   "metadata": {},
   "outputs": [
    {
     "name": "stdout",
     "output_type": "stream",
     "text": [
      "Number of incorrectly clustered samples: 389\n",
      "Percentage of errors: 71.90388170055454 %\n"
     ]
    }
   ],
   "source": [
    "# Determining the most common cluster assignment for each class\n",
    "most_common_clusters = [np.argmax(contingency_matrix[i]) for i in range(len(class_labels))] #Aqui uso lo mismo que antes\n",
    "\n",
    "# Dictionary creation for map the class labels to their most common clusters\n",
    "class_to_cluster = {class_label: cluster for class_label, cluster in zip(class_labels, most_common_clusters)}\n",
    "\n",
    "# Mapping of the actual class labels to their predicted clusters\n",
    "predicted_clusters = [class_to_cluster.get(label, -1) for label in y]\n",
    "\n",
    "# Amount of mismatches between actual clusters and predicted ones\n",
    "incorrectly_clustered = np.sum(np.array(predicted_clusters) != kmeans_best.labels_)\n",
    "\n",
    "# Calculate the percentage of errors\n",
    "total_samples = len(y)\n",
    "error_percentage = (incorrectly_clustered / total_samples) * 100\n",
    "\n",
    "print(\"Number of incorrectly clustered samples:\", incorrectly_clustered)\n",
    "print(\"Percentage of errors:\", error_percentage, \"%\")\n"
   ]
  },
  {
   "cell_type": "markdown",
   "id": "93604a73",
   "metadata": {},
   "source": [
    "### iv. Report also on the homogeneity and the completeness measures."
   ]
  },
  {
   "cell_type": "code",
   "execution_count": 8,
   "id": "e1e8a155",
   "metadata": {},
   "outputs": [
    {
     "name": "stdout",
     "output_type": "stream",
     "text": [
      "Homogeneity: 0.7826175523849788\n",
      "Completeness: 0.5428872565568666\n"
     ]
    }
   ],
   "source": [
    "homogeneity = homogeneity_score(y, y_pred_best)\n",
    "completeness = completeness_score(y, y_pred_best)\n",
    "print(\"Homogeneity:\", homogeneity)\n",
    "print(\"Completeness:\", completeness)"
   ]
  },
  {
   "cell_type": "markdown",
   "id": "1d282df0",
   "metadata": {},
   "source": [
    "### v. In case there are mistakes, show one example of each case using the following source code (X is the matrix with the samples and ndx is the index of an incorrectly clustered sample, e.g. a sample from class 0 clustered as if it was from class 6)"
   ]
  },
  {
   "cell_type": "code",
   "execution_count": 9,
   "id": "aa3b24f3",
   "metadata": {},
   "outputs": [
    {
     "data": {
      "image/png": "[encoded data removed]",
      "text/plain": [
       "<Figure size 1500x800 with 3 Axes>"
      ]
     },
     "metadata": {},
     "output_type": "display_data"
    }
   ],
   "source": [
    "import matplotlib.pyplot as plt\n",
    "\n",
    "unique_classes = np.unique(y)\n",
    "plt.figure(figsize=(15, 8))\n",
    "\n",
    "for i, class_label in enumerate(unique_classes):\n",
    "    # Finding the first instance where the predicted cluster does not match the actual class\n",
    "    incorrect_indices = np.where((y == class_label) & (y_pred_best != class_to_cluster[class_label]))[0]\n",
    "    if len(incorrect_indices) > 0:\n",
    "        ndx = incorrect_indices[0]  # Index of the first incorrect sample\n",
    "        plt.subplot(1, len(unique_classes), i + 1)\n",
    "        plt.gray()\n",
    "        plt.matshow(X[ndx].reshape(8, 8), fignum=False)\n",
    "        predicted_cluster = y_pred_best[ndx] + 1  # Adding 1 to match cluster numbering starting from 1\n",
    "        plt.title(f'Sample {class_label}\\nClustered as {predicted_cluster}')\n",
    "        plt.axis('off')\n",
    "\n",
    "plt.show()"
   ]
  },
  {
   "cell_type": "code",
   "execution_count": 45,
   "metadata": {},
   "outputs": [],
   "source": [
    "# Function to perform clustering and evaluate with v-measure\n",
    "def cluster_and_evaluate(method, X):\n",
    "    model = method()\n",
    "    model.fit(X)\n",
    "    labels = model.labels_\n",
    "    return v_measure_score(y, labels), labels # 'y' is a global variable"
   ]
  },
  {
   "cell_type": "code",
   "execution_count": 56,
   "id": "463fe2c4",
   "metadata": {},
   "outputs": [],
   "source": [
    "def best_case(y, y_pred_best, class_labels):\n",
    "    contingency_matrix = confusion_matrix(y, y_pred_best)\n",
    "    print(f\"\\nContingency Matrix:\\n {contingency_matrix}\\n\")\n",
    "    \n",
    "    incorrect_clustered = (y != y_pred_best)\n",
    "    n_incorrect = np.sum(incorrect_clustered)\n",
    "    error_percentatge = n_incorrect/len(y)*100\n",
    "    print(f\"\\nIncorrect amount: {n_incorrect}\\nError poercentatge: {error_percentatge}\")\n",
    "    \n",
    "    homogeneity = homogeneity_score(y, y_pred_best)\n",
    "    completeness = completeness_score(y, y_pred_best)\n",
    "    print(\"Homogeneity:\", homogeneity)\n",
    "    print(\"Completeness:\", completeness)\n",
    "\n",
    "    for class_label in class_labels:\n",
    "        # Finding the first instance where the predicted cluster does not match the actual class\n",
    "        incorrect_indices = np.where((y == class_label) & (y_pred_best != class_to_cluster[class_label]))[0]\n",
    "        if len(incorrect_indices) > 0:\n",
    "            ndx = incorrect_indices[0]\n",
    "            plt.figure()\n",
    "            plt.gray()\n",
    "            plt.matshow(X[ndx].reshape(8, 8))\n",
    "            plt.title(f'Sample from class {class_label} clustered as class {y_pred_best[ndx]}')\n",
    "            plt.show()\n",
    "\n",
    "    return contingency_matrix, n_incorrect, error_percentage, homogeneity, completeness"
   ]
  },
  {
   "cell_type": "markdown",
   "id": "27d8ade3",
   "metadata": {},
   "source": [
    "## T1. Consider the Ward algorithm and the Euclidean distance."
   ]
  },
  {
   "cell_type": "code",
   "execution_count": 58,
   "metadata": {},
   "outputs": [
    {
     "name": "stdout",
     "output_type": "stream",
     "text": [
      "\n",
      "Contingency Matrix:\n",
      " [[  0   0   0   0   0   0]\n",
      " [  0   0   0   0   0   0]\n",
      " [  0   0   0   0   0   0]\n",
      " [  0 171  11   0   0   0]\n",
      " [179   0   0   0   0   0]\n",
      " [ 31   3 146   0   0   0]]\n",
      "\n",
      "\n",
      "Incorrect amount: 541\n",
      "Error poercentatge: 100.0\n",
      "Homogeneity: 0.7595647318436201\n",
      "Completeness: 0.7647052824406603\n"
     ]
    },
    {
     "data": {
      "text/plain": [
       "<Figure size 640x480 with 0 Axes>"
      ]
     },
     "metadata": {},
     "output_type": "display_data"
    },
    {
     "data": {
      "image/png": "[encoded data removed]",
      "text/plain": [
       "<Figure size 480x480 with 1 Axes>"
      ]
     },
     "metadata": {},
     "output_type": "display_data"
    },
    {
     "data": {
      "text/plain": [
       "<Figure size 640x480 with 0 Axes>"
      ]
     },
     "metadata": {},
     "output_type": "display_data"
    },
    {
     "data": {
      "image/png": "[encoded data removed]",
      "text/plain": [
       "<Figure size 480x480 with 1 Axes>"
      ]
     },
     "metadata": {},
     "output_type": "display_data"
    }
   ],
   "source": [
    "best_v_measure_ward = 0\n",
    "best_labels_ward = None\n",
    "n_clusters_list = [2,3,4,5]\n",
    "\n",
    "for n_clusters in n_clusters_list:\n",
    "    v_measure, labels = cluster_and_evaluate(lambda: AgglomerativeClustering(n_clusters=n_clusters, metric='euclidean', linkage='ward'), X_pca)\n",
    "    if(v_measure > best_v_measure_ward):\n",
    "        best_v_measure_ward = v_measure\n",
    "        best_labels_ward = labels\n",
    "\n",
    "contingency_mat_ward, incorrect_count_ward, error_percentage_ward, homogeneity_ward, completeness_ward = best_case(y, best_labels_ward, [5, 7, 9])"
   ]
  },
  {
   "cell_type": "code",
   "execution_count": 25,
   "id": "2613a581",
   "metadata": {},
   "outputs": [
    {
     "ename": "SyntaxError",
     "evalue": "invalid syntax (442503502.py, line 7)",
     "output_type": "error",
     "traceback": [
      "\u001b[1;36m  Cell \u001b[1;32mIn[25], line 7\u001b[1;36m\u001b[0m\n\u001b[1;33m    if(v_measure )\u001b[0m\n\u001b[1;37m                  ^\u001b[0m\n\u001b[1;31mSyntaxError\u001b[0m\u001b[1;31m:\u001b[0m invalid syntax\n"
     ]
    }
   ],
   "source": [
    "ward = AgglomerativeClustering(n_clusters=5, metric='euclidean', linkage='ward')\n",
    "y_pred_ward = ward.fit_predict(X_pca)\n",
    "#y_pred_ward\n",
    "\n",
    "# Evaluate performance using the same metrics as before\n",
    "v_measure_ward = v_measure_score(y, y_pred_ward)\n",
    "homogeneity_ward = homogeneity_score(y, y_pred_ward)\n",
    "completeness_ward = completeness_score(y, y_pred_ward)\n",
    "\n",
    "print(\"Ward Algorithm:\")\n",
    "print(\"V-measure:\", v_measure_ward)\n",
    "print(\"Homogeneity:\", homogeneity_ward)\n",
    "print(\"Completeness:\", completeness_ward)"
   ]
  },
  {
   "cell_type": "markdown",
   "id": "501f6790",
   "metadata": {},
   "source": [
    "## T2. Consider the K-means algorithm and the Euclidean distance."
   ]
  },
  {
   "cell_type": "code",
   "execution_count": 12,
   "id": "2aaefa1d",
   "metadata": {},
   "outputs": [
    {
     "name": "stdout",
     "output_type": "stream",
     "text": [
      "\n",
      "Custom K-means Algorithm:\n",
      "V-measure: 0.6312729207969277\n",
      "Homogeneity: 0.7691566538960403\n",
      "Completeness: 0.5353099756272923\n"
     ]
    }
   ],
   "source": [
    "from fuzzy_kmeans import KMeans, FuzzyKMeans\n",
    "\n",
    "# Use the custom KMeans algorithm\n",
    "custom_kmeans = KMeans(k=5)\n",
    "custom_kmeans.fit(X_pca)  # or X, based on your choice\n",
    "y_pred_custom_kmeans = custom_kmeans.predict(X_pca)\n",
    "\n",
    "# Evaluate performance\n",
    "v_measure_custom_kmeans = v_measure_score(y, y_pred_custom_kmeans)\n",
    "homogeneity_custom_kmeans = homogeneity_score(y, y_pred_custom_kmeans)\n",
    "completeness_custom_kmeans = completeness_score(y, y_pred_custom_kmeans)\n",
    "\n",
    "print(\"\\nCustom K-means Algorithm:\")\n",
    "print(\"V-measure:\", v_measure_custom_kmeans)\n",
    "print(\"Homogeneity:\", homogeneity_custom_kmeans)\n",
    "print(\"Completeness:\", completeness_custom_kmeans)"
   ]
  },
  {
   "cell_type": "code",
   "execution_count": 55,
   "id": "a3762c1c",
   "metadata": {},
   "outputs": [
    {
     "name": "stdout",
     "output_type": "stream",
     "text": [
      "\n",
      "Contingency Matrix:\n",
      " [[  0   0   0   0   0   0   0   0]\n",
      " [  0   0   0   0   0   0   0   0]\n",
      " [  0   0   0   0   0   0   0   0]\n",
      " [  0   0   0   0   0   0   0   0]\n",
      " [  0   0   0   0   0   0   0   0]\n",
      " [  0  12  70 100   0   0   0   0]\n",
      " [112   0   0   0  67   0   0   0]\n",
      " [  2 143   2   4  29   0   0   0]]\n",
      "\n",
      "\n",
      "Incorrect amount: 541\n",
      "Error poercentatge: 100.0\n",
      "Homogeneity: 0.7691566538960403\n",
      "Completeness: 0.5353099756272923\n"
     ]
    },
    {
     "ename": "ValueError",
     "evalue": "cannot reshape array of size 27 into shape (8,8)",
     "output_type": "error",
     "traceback": [
      "\u001b[1;31m---------------------------------------------------------------------------\u001b[0m",
      "\u001b[1;31mValueError\u001b[0m                                Traceback (most recent call last)",
      "Cell \u001b[1;32mIn[55], line 10\u001b[0m\n\u001b[0;32m      7\u001b[0m         best_v_measure_kmeans \u001b[38;5;241m=\u001b[39m v_measure\n\u001b[0;32m      8\u001b[0m         best_labels_kmeans \u001b[38;5;241m=\u001b[39m labels\n\u001b[1;32m---> 10\u001b[0m contingency_mat_kmeans, incorrect_count_kmeans, error_percentage_kmeans, homogeneity_kmeans, completeness_kmeans \u001b[38;5;241m=\u001b[39m \u001b[43mbest_case\u001b[49m\u001b[43m(\u001b[49m\u001b[43mX_pca\u001b[49m\u001b[43m,\u001b[49m\u001b[43m \u001b[49m\u001b[43my\u001b[49m\u001b[43m,\u001b[49m\u001b[43m \u001b[49m\u001b[43mbest_labels_kmeans\u001b[49m\u001b[43m,\u001b[49m\u001b[43m \u001b[49m\u001b[43m[\u001b[49m\u001b[38;5;241;43m5\u001b[39;49m\u001b[43m,\u001b[49m\u001b[43m \u001b[49m\u001b[38;5;241;43m7\u001b[39;49m\u001b[43m,\u001b[49m\u001b[43m \u001b[49m\u001b[38;5;241;43m9\u001b[39;49m\u001b[43m]\u001b[49m\u001b[43m)\u001b[49m\n",
      "Cell \u001b[1;32mIn[50], line 22\u001b[0m, in \u001b[0;36mbest_case\u001b[1;34m(X, y, y_pred_best, class_labels)\u001b[0m\n\u001b[0;32m     20\u001b[0m plt\u001b[38;5;241m.\u001b[39mfigure()\n\u001b[0;32m     21\u001b[0m plt\u001b[38;5;241m.\u001b[39mgray()\n\u001b[1;32m---> 22\u001b[0m plt\u001b[38;5;241m.\u001b[39mmatshow(\u001b[43mX\u001b[49m\u001b[43m[\u001b[49m\u001b[43mndx\u001b[49m\u001b[43m]\u001b[49m\u001b[38;5;241;43m.\u001b[39;49m\u001b[43mreshape\u001b[49m\u001b[43m(\u001b[49m\u001b[38;5;241;43m8\u001b[39;49m\u001b[43m,\u001b[49m\u001b[43m \u001b[49m\u001b[38;5;241;43m8\u001b[39;49m\u001b[43m)\u001b[49m)\n\u001b[0;32m     23\u001b[0m plt\u001b[38;5;241m.\u001b[39mtitle(\u001b[38;5;124mf\u001b[39m\u001b[38;5;124m'\u001b[39m\u001b[38;5;124mSample from class \u001b[39m\u001b[38;5;132;01m{\u001b[39;00mclass_label\u001b[38;5;132;01m}\u001b[39;00m\u001b[38;5;124m clustered as class \u001b[39m\u001b[38;5;132;01m{\u001b[39;00my_pred_best[ndx]\u001b[38;5;132;01m}\u001b[39;00m\u001b[38;5;124m'\u001b[39m)\n\u001b[0;32m     24\u001b[0m plt\u001b[38;5;241m.\u001b[39mshow()\n",
      "\u001b[1;31mValueError\u001b[0m: cannot reshape array of size 27 into shape (8,8)"
     ]
    },
    {
     "data": {
      "text/plain": [
       "<Figure size 640x480 with 0 Axes>"
      ]
     },
     "metadata": {},
     "output_type": "display_data"
    }
   ],
   "source": [
    "best_v_measure_kmeans = 0\n",
    "best_labels_kmeans = None\n",
    "\n",
    "for n_clusters in n_clusters_list:\n",
    "    v_measure, labels = cluster_and_evaluate(lambda: KMeans(k=5), X_pca)\n",
    "    if(v_measure > best_v_measure_kmeans):\n",
    "        best_v_measure_kmeans = v_measure\n",
    "        best_labels_kmeans = labels\n",
    "\n",
    "contingency_mat_kmeans, incorrect_count_kmeans, error_percentage_kmeans, homogeneity_kmeans, completeness_kmeans = best_case(X_pca, y, best_labels_kmeans, [5, 7, 9])"
   ]
  },
  {
   "cell_type": "markdown",
   "id": "8fc58677",
   "metadata": {},
   "source": [
    "## T3. Consider the Fuzzy K-means algorithm and the Euclidean distance."
   ]
  },
  {
   "cell_type": "code",
   "execution_count": 14,
   "id": "85d13825",
   "metadata": {},
   "outputs": [
    {
     "name": "stdout",
     "output_type": "stream",
     "text": [
      "\n",
      "Custom K-means Algorithm:\n",
      "V-measure: 0.5617970798124061\n",
      "Homogeneity: 0.6295549509731272\n",
      "Completeness: 0.5072072702690911\n"
     ]
    }
   ],
   "source": [
    "# Use the custom Fuzzy KMeans algorithm\n",
    "custom_FuzzyKMeans = FuzzyKMeans(k=5, m=2)\n",
    "custom_FuzzyKMeans.fit(X_pca)  # or X, based on your choice\n",
    "y_pred_custom_kmeans = custom_FuzzyKMeans.predict(X_pca)\n",
    "\n",
    "# Evaluate performance\n",
    "v_measure_custom_FuzzyKMeans = v_measure_score(y, y_pred_custom_kmeans)\n",
    "homogeneity_custom_FuzzyKMeans = homogeneity_score(y, y_pred_custom_kmeans)\n",
    "completeness_custom_FuzzyKMeans = completeness_score(y, y_pred_custom_kmeans)\n",
    "\n",
    "print(\"\\nCustom K-means Algorithm:\")\n",
    "print(\"V-measure:\", v_measure_custom_kmeans)\n",
    "print(\"Homogeneity:\", homogeneity_custom_kmeans)\n",
    "print(\"Completeness:\", completeness_custom_kmeans)"
   ]
  },
  {
   "cell_type": "markdown",
   "id": "ba2b583d",
   "metadata": {},
   "source": [
    "## T4. Determine the best clustering methodology among the options above"
   ]
  },
  {
   "cell_type": "code",
   "execution_count": 17,
   "id": "86bee575",
   "metadata": {},
   "outputs": [
    {
     "name": "stdout",
     "output_type": "stream",
     "text": [
      "\n",
      "Best clustering methodology is Ward Methodology: 0.6544775499578028\n"
     ]
    }
   ],
   "source": [
    "best_clustering = max(\n",
    "    (\"Ward Methodology\",v_measure_ward),\n",
    "    (\"K-Means Methodology\",v_measure_custom_kmeans), \n",
    "    (\"Fuzzy K-Means Methodology\", v_measure_custom_FuzzyKMeans),\n",
    "    )\n",
    "print(f\"\\nBest clustering methodology is {best_clustering[0]}: {best_clustering[1]}\")"
   ]
  }
 ],
 "metadata": {
  "kernelspec": {
   "display_name": "Python 3 (ipykernel)",
   "language": "python",
   "name": "python3"
  },
  "language_info": {
   "codemirror_mode": {
    "name": "ipython",
    "version": 3
   },
   "file_extension": ".py",
   "mimetype": "text/x-python",
   "name": "python",
   "nbconvert_exporter": "python",
   "pygments_lexer": "ipython3",
   "version": "3.9.18"
  }
 },
 "nbformat": 4,
 "nbformat_minor": 5
}
